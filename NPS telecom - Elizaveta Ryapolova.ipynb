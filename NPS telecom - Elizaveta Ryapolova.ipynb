{
  "cells": [
    {
      "cell_type": "markdown",
      "id": "bee404b1",
      "metadata": {
        "id": "bee404b1"
      },
      "source": [
        "# Исследование уровня потребительской лояльности для телекоммуникационной компании"
      ]
    },
    {
      "cell_type": "markdown",
      "id": "51f3bcb0",
      "metadata": {
        "id": "51f3bcb0"
      },
      "source": [
        "Перед телекоммуникационной компанией стоит задача определить текущий уровень потребительской лояльности, или NPS (от англ. Net Promoter Score), среди клиентов из России.\n",
        "\n",
        "Чтобы определить уровень лояльности, клиентам задавали классический вопрос: «Оцените по шкале от 1 до 10 вероятность того, что вы порекомендуете компанию друзьям и знакомым».\n",
        "\n",
        "Для визуализации итогов опроса, проведённого компанией, был подготовлен дашборд. Выводы исследования также представлены в презентации."
      ]
    },
    {
      "cell_type": "markdown",
      "id": "60c9c61f",
      "metadata": {
        "id": "60c9c61f"
      },
      "source": [
        "## Подключение к базе и выгрузка данных:"
      ]
    },
    {
      "cell_type": "code",
      "execution_count": null,
      "id": "4e030673",
      "metadata": {
        "tags": [
          "aa81075c-062f-4de0-b5fe-14c73dc7468e"
        ],
        "id": "4e030673"
      },
      "outputs": [],
      "source": [
        "import pandas as pd\n",
        "import numpy as np\n",
        "\n",
        "from sqlalchemy import create_engine"
      ]
    },
    {
      "cell_type": "code",
      "execution_count": null,
      "id": "1619d126",
      "metadata": {
        "id": "1619d126"
      },
      "outputs": [],
      "source": [
        "path_to_db = '/datasets/telecomm_csi.db'\n",
        "engine = create_engine(f'sqlite:///{path_to_db}', echo = False)"
      ]
    },
    {
      "cell_type": "code",
      "execution_count": null,
      "id": "85d7d68e",
      "metadata": {
        "id": "85d7d68e"
      },
      "outputs": [],
      "source": [
        "query = \"\"\"\n",
        "SELECT user_id,\n",
        "        lt_day,\n",
        "        CASE\n",
        "            WHEN lt_day <= 365 THEN 'True'\n",
        "            WHEN lt_day > 365 THEN 'False'\n",
        "        END AS is_new,\n",
        "    age,\n",
        "    CASE\n",
        "        WHEN gender_segment = 0 THEN 'мужчины'\n",
        "        WHEN gender_segment = 1 THEN 'женщины'\n",
        "    END AS gender_segment,\n",
        "    os_name,\n",
        "    cpe_type_name,\n",
        "    location.country AS country,\n",
        "    location.city AS city,\n",
        "    SUBSTRING(age_segment.title, 4, 10) AS age_segment,\n",
        "    SUBSTRING(traffic_segment.title, 4, 10) AS traffic_segment,\n",
        "    SUBSTRING(lifetime_segment.title, 4, 10) AS lifetime_segment,\n",
        "    nps_score,\n",
        "    CASE\n",
        "        WHEN nps_score <= 6 THEN 'критики'\n",
        "        WHEN nps_score BETWEEN 7 AND 8 THEN 'нейтралы'\n",
        "        WHEN nps_score > 8 THEN 'сторонники'\n",
        "    END AS nps_group\n",
        "FROM user\n",
        "LEFT OUTER JOIN location ON user.location_id = location.location_id\n",
        "LEFT OUTER JOIN age_segment ON user.age_gr_id = age_segment.age_gr_id\n",
        "LEFT OUTER JOIN traffic_segment ON user.tr_gr_id = traffic_segment.tr_gr_id\n",
        "LEFT OUTER JOIN lifetime_segment ON user.lt_gr_id = lifetime_segment.lt_gr_id\n",
        "WHERE lt_day >= 0;\n",
        "\"\"\""
      ]
    },
    {
      "cell_type": "code",
      "execution_count": null,
      "id": "bbe7c72b",
      "metadata": {
        "scrolled": false,
        "id": "bbe7c72b",
        "outputId": "c5614704-864e-43fa-d953-7f7564f7f9c2"
      },
      "outputs": [
        {
          "data": {
            "text/html": [
              "<div>\n",
              "<style scoped>\n",
              "    .dataframe tbody tr th:only-of-type {\n",
              "        vertical-align: middle;\n",
              "    }\n",
              "\n",
              "    .dataframe tbody tr th {\n",
              "        vertical-align: top;\n",
              "    }\n",
              "\n",
              "    .dataframe thead th {\n",
              "        text-align: right;\n",
              "    }\n",
              "</style>\n",
              "<table border=\"1\" class=\"dataframe\">\n",
              "  <thead>\n",
              "    <tr style=\"text-align: right;\">\n",
              "      <th></th>\n",
              "      <th>user_id</th>\n",
              "      <th>lt_day</th>\n",
              "      <th>is_new</th>\n",
              "      <th>age</th>\n",
              "      <th>gender_segment</th>\n",
              "      <th>os_name</th>\n",
              "      <th>cpe_type_name</th>\n",
              "      <th>country</th>\n",
              "      <th>city</th>\n",
              "      <th>age_segment</th>\n",
              "      <th>traffic_segment</th>\n",
              "      <th>lifetime_segment</th>\n",
              "      <th>nps_score</th>\n",
              "      <th>nps_group</th>\n",
              "    </tr>\n",
              "  </thead>\n",
              "  <tbody>\n",
              "    <tr>\n",
              "      <th>0</th>\n",
              "      <td>A001A2</td>\n",
              "      <td>2320</td>\n",
              "      <td>False</td>\n",
              "      <td>45.0</td>\n",
              "      <td>женщины</td>\n",
              "      <td>ANDROID</td>\n",
              "      <td>SMARTPHONE</td>\n",
              "      <td>Россия</td>\n",
              "      <td>Уфа</td>\n",
              "      <td>45-54</td>\n",
              "      <td>1-5</td>\n",
              "      <td>36+</td>\n",
              "      <td>10</td>\n",
              "      <td>сторонники</td>\n",
              "    </tr>\n",
              "    <tr>\n",
              "      <th>1</th>\n",
              "      <td>A001WF</td>\n",
              "      <td>2344</td>\n",
              "      <td>False</td>\n",
              "      <td>53.0</td>\n",
              "      <td>мужчины</td>\n",
              "      <td>ANDROID</td>\n",
              "      <td>SMARTPHONE</td>\n",
              "      <td>Россия</td>\n",
              "      <td>Киров</td>\n",
              "      <td>45-54</td>\n",
              "      <td>1-5</td>\n",
              "      <td>36+</td>\n",
              "      <td>10</td>\n",
              "      <td>сторонники</td>\n",
              "    </tr>\n",
              "    <tr>\n",
              "      <th>2</th>\n",
              "      <td>A003Q7</td>\n",
              "      <td>467</td>\n",
              "      <td>False</td>\n",
              "      <td>57.0</td>\n",
              "      <td>мужчины</td>\n",
              "      <td>ANDROID</td>\n",
              "      <td>SMARTPHONE</td>\n",
              "      <td>Россия</td>\n",
              "      <td>Москва</td>\n",
              "      <td>55-64</td>\n",
              "      <td>20-25</td>\n",
              "      <td>13-24</td>\n",
              "      <td>10</td>\n",
              "      <td>сторонники</td>\n",
              "    </tr>\n",
              "  </tbody>\n",
              "</table>\n",
              "</div>"
            ],
            "text/plain": [
              "  user_id  lt_day is_new   age gender_segment  os_name cpe_type_name country  \\\n",
              "0  A001A2    2320  False  45.0        женщины  ANDROID    SMARTPHONE  Россия   \n",
              "1  A001WF    2344  False  53.0        мужчины  ANDROID    SMARTPHONE  Россия   \n",
              "2  A003Q7     467  False  57.0        мужчины  ANDROID    SMARTPHONE  Россия   \n",
              "\n",
              "     city age_segment traffic_segment lifetime_segment  nps_score   nps_group  \n",
              "0     Уфа       45-54             1-5              36+         10  сторонники  \n",
              "1   Киров       45-54             1-5              36+         10  сторонники  \n",
              "2  Москва       55-64           20-25            13-24         10  сторонники  "
            ]
          },
          "execution_count": 4,
          "metadata": {},
          "output_type": "execute_result"
        }
      ],
      "source": [
        "df = pd.read_sql(query, engine)\n",
        "df.head(3)"
      ]
    },
    {
      "cell_type": "markdown",
      "id": "28eaece3",
      "metadata": {
        "id": "28eaece3"
      },
      "source": [
        "Сохраним получившуюся таблицу как CSV-файл."
      ]
    },
    {
      "cell_type": "code",
      "execution_count": null,
      "id": "f8b16feb",
      "metadata": {
        "id": "f8b16feb"
      },
      "outputs": [],
      "source": [
        "df.to_csv('telecomm_csi_tableau.csv', index=False)"
      ]
    },
    {
      "cell_type": "markdown",
      "id": "d9ee7d3c",
      "metadata": {
        "id": "d9ee7d3c"
      },
      "source": [
        "## Ссылка на дашборд на сайте Tableau Public:"
      ]
    },
    {
      "cell_type": "markdown",
      "id": "9faefd89",
      "metadata": {
        "id": "9faefd89"
      },
      "source": [
        "[Дашборд NPS](https://public.tableau.com/views/NPSProject_16738914841330/sheet5?:language=en-US&publish=yes&:display_count=n&:origin=viz_share_link)"
      ]
    },
    
    {
      "cell_type": "markdown",
      "id": "53c3affa",
      "metadata": {
        "id": "53c3affa"
      },
      "source": [
        "## Ссылка на pdf-файл с презентацией:"
      ]
    },
    {
      "cell_type": "markdown",
      "id": "a1be8346",
      "metadata": {
        "id": "a1be8346"
      },
      "source": [
        "[Презентация](https://drive.google.com/file/d/1DBrr5ZWGosRGCd3nwF0ViYJrkC9Mr7-x/view?usp=share_link)"
      ]
    }
  ],
  "metadata": {
    "ExecuteTimeLog": [
      {
        "duration": 752,
        "start_time": "2021-10-03T17:40:52.731Z"
      },
      {
        "duration": 20,
        "start_time": "2021-10-03T17:40:53.486Z"
      },
      {
        "duration": 4,
        "start_time": "2021-10-03T17:41:04.638Z"
      },
      {
        "duration": 461,
        "start_time": "2021-10-03T17:41:04.912Z"
      },
      {
        "duration": 284,
        "start_time": "2021-10-03T17:41:05.376Z"
      },
      {
        "duration": 574,
        "start_time": "2021-10-06T07:55:05.029Z"
      },
      {
        "duration": 6,
        "start_time": "2021-10-06T07:55:05.605Z"
      },
      {
        "duration": 3,
        "start_time": "2021-10-06T07:55:14.685Z"
      },
      {
        "duration": 406,
        "start_time": "2021-10-06T07:55:15.522Z"
      },
      {
        "duration": 67,
        "start_time": "2021-10-06T07:55:15.929Z"
      },
      {
        "duration": 840,
        "start_time": "2021-10-07T07:54:04.647Z"
      },
      {
        "duration": 10,
        "start_time": "2021-10-07T07:54:05.490Z"
      },
      {
        "duration": 4,
        "start_time": "2021-10-07T07:54:05.544Z"
      },
      {
        "duration": 391,
        "start_time": "2021-10-07T07:54:06.237Z"
      },
      {
        "duration": 293,
        "start_time": "2021-10-07T07:54:06.654Z"
      },
      {
        "duration": 468,
        "start_time": "2023-01-12T15:52:30.348Z"
      },
      {
        "duration": 9,
        "start_time": "2023-01-12T15:52:32.916Z"
      },
      {
        "duration": 3,
        "start_time": "2023-01-12T15:52:38.212Z"
      },
      {
        "duration": 5406,
        "start_time": "2023-01-12T15:52:43.852Z"
      },
      {
        "duration": 546,
        "start_time": "2023-01-16T10:03:25.922Z"
      },
      {
        "duration": 11,
        "start_time": "2023-01-16T10:03:26.470Z"
      },
      {
        "duration": 4,
        "start_time": "2023-01-16T10:03:26.483Z"
      },
      {
        "duration": 5567,
        "start_time": "2023-01-16T10:03:26.488Z"
      },
      {
        "duration": 109,
        "start_time": "2023-01-16T10:03:37.999Z"
      },
      {
        "duration": 108,
        "start_time": "2023-01-16T10:05:32.297Z"
      },
      {
        "duration": 99,
        "start_time": "2023-01-16T10:05:42.320Z"
      },
      {
        "duration": 2,
        "start_time": "2023-01-16T10:07:10.051Z"
      },
      {
        "duration": 4581,
        "start_time": "2023-01-16T10:07:13.643Z"
      },
      {
        "duration": 3,
        "start_time": "2023-01-16T10:18:10.331Z"
      },
      {
        "duration": 5190,
        "start_time": "2023-01-16T10:18:11.591Z"
      },
      {
        "duration": 106,
        "start_time": "2023-01-16T10:18:25.674Z"
      },
      {
        "duration": 1065,
        "start_time": "2023-01-16T10:18:52.314Z"
      },
      {
        "duration": 104,
        "start_time": "2023-01-16T10:18:57.293Z"
      },
      {
        "duration": 100,
        "start_time": "2023-01-16T10:19:08.667Z"
      },
      {
        "duration": 3,
        "start_time": "2023-01-16T10:22:02.172Z"
      },
      {
        "duration": 5555,
        "start_time": "2023-01-16T10:22:03.677Z"
      },
      {
        "duration": 64,
        "start_time": "2023-01-16T10:26:05.096Z"
      },
      {
        "duration": 4,
        "start_time": "2023-01-16T10:26:10.624Z"
      },
      {
        "duration": 9,
        "start_time": "2023-01-16T10:26:50.265Z"
      },
      {
        "duration": 17,
        "start_time": "2023-01-16T10:28:12.603Z"
      },
      {
        "duration": 104,
        "start_time": "2023-01-16T10:29:39.180Z"
      },
      {
        "duration": 3,
        "start_time": "2023-01-16T10:30:01.508Z"
      },
      {
        "duration": 5342,
        "start_time": "2023-01-16T10:30:03.740Z"
      },
      {
        "duration": 4391,
        "start_time": "2023-01-16T10:30:29.260Z"
      },
      {
        "duration": 571,
        "start_time": "2023-01-25T17:54:58.607Z"
      },
      {
        "duration": 13,
        "start_time": "2023-01-25T17:54:59.180Z"
      },
      {
        "duration": 5,
        "start_time": "2023-01-25T17:54:59.195Z"
      },
      {
        "duration": 5950,
        "start_time": "2023-01-25T17:54:59.202Z"
      },
      {
        "duration": 6484,
        "start_time": "2023-01-25T17:55:05.155Z"
      },
      {
        "duration": 481,
        "start_time": "2023-01-30T20:15:39.536Z"
      },
      {
        "duration": 8,
        "start_time": "2023-01-30T20:15:40.019Z"
      },
      {
        "duration": 18,
        "start_time": "2023-01-30T20:15:40.028Z"
      },
      {
        "duration": 5587,
        "start_time": "2023-01-30T20:15:40.047Z"
      },
      {
        "duration": 4366,
        "start_time": "2023-01-30T20:15:45.635Z"
      }
    ],
    "kernelspec": {
      "display_name": "Python 3 (ipykernel)",
      "language": "python",
      "name": "python3"
    },
    "language_info": {
      "codemirror_mode": {
        "name": "ipython",
        "version": 3
      },
      "file_extension": ".py",
      "mimetype": "text/x-python",
      "name": "python",
      "nbconvert_exporter": "python",
      "pygments_lexer": "ipython3",
      "version": "3.9.5"
    },
    "toc": {
      "base_numbering": 1,
      "nav_menu": {},
      "number_sections": true,
      "sideBar": true,
      "skip_h1_title": true,
      "title_cell": "Table of Contents",
      "title_sidebar": "Contents",
      "toc_cell": false,
      "toc_position": {},
      "toc_section_display": true,
      "toc_window_display": false
    },
    "colab": {
      "provenance": []
    }
  },
  "nbformat": 4,
  "nbformat_minor": 5
}
